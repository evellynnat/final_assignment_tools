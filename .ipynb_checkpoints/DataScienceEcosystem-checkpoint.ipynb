{
 "cells": [
  {
   "cell_type": "markdown",
   "id": "2fd8063c",
   "metadata": {},
   "source": [
    "# Data Science Tools and Ecosystem"
   ]
  },
  {
   "cell_type": "markdown",
   "id": "aa8f05b1",
   "metadata": {},
   "source": [
    "## Author:\n",
    "\n",
    "Evellyn Natalee da Cruz Guimarães"
   ]
  },
  {
   "cell_type": "markdown",
   "id": "b9b90b45",
   "metadata": {},
   "source": [
    "In this notebook, Data Science Tools and Ecosystem are summarized. "
   ]
  },
  {
   "cell_type": "markdown",
   "id": "631a849d",
   "metadata": {},
   "source": [
    "<i> Objectives: </i>\n",
    "\n",
    "* Create a list of objects\n",
    "* Create a table of content\n",
    "* Perform arithmetic expressions via Python\n",
    "* Convert minutes to hours "
   ]
  },
  {
   "cell_type": "markdown",
   "id": "6fa2076d",
   "metadata": {},
   "source": [
    "Some of the popular languages that Data Scientists use are: \n",
    "\n",
    "1. Python\n",
    "2. R\n",
    "3. SQL\n",
    "\n",
    "\n"
   ]
  },
  {
   "cell_type": "markdown",
   "id": "01570299",
   "metadata": {},
   "source": [
    "Some of the commonly used libraries used by Data Scientists include:\n",
    "\n",
    "1. Pandas\n",
    "2. Matplotlib\n",
    "3. Numpy\n",
    "4. Scipy\n",
    "5. Scikitlearn\n",
    "6. Statsmodel\n",
    "7. pyTorch\n"
   ]
  },
  {
   "cell_type": "markdown",
   "id": "14664cbf",
   "metadata": {},
   "source": [
    "| Data Science Tools    |\n",
    "| -------- | \n",
    "| Jupyter Notebook  | \n",
    "| RStudio | \n",
    "| Apache Zeppelin    | "
   ]
  },
  {
   "cell_type": "markdown",
   "id": "5fcde9c3",
   "metadata": {},
   "source": [
    "### Below are a few examples of evaluating arithmetic expressions in Python."
   ]
  },
  {
   "cell_type": "code",
   "execution_count": 2,
   "id": "b59ad286",
   "metadata": {},
   "outputs": [
    {
     "data": {
      "text/plain": [
       "17"
      ]
     },
     "execution_count": 2,
     "metadata": {},
     "output_type": "execute_result"
    }
   ],
   "source": [
    "# This a simple arithmetic expression to mutiply then add integers. \n",
    "    \n",
    "(3*4)+5"
   ]
  },
  {
   "cell_type": "code",
   "execution_count": 3,
   "id": "27469819",
   "metadata": {},
   "outputs": [
    {
     "data": {
      "text/plain": [
       "3.3333333333333335"
      ]
     },
     "execution_count": 3,
     "metadata": {},
     "output_type": "execute_result"
    }
   ],
   "source": [
    "# This will convert 200 minutes into hours by dividing by 60\n",
    "\n",
    "200/60"
   ]
  }
 ],
 "metadata": {
  "kernelspec": {
   "display_name": "Python 3 (ipykernel)",
   "language": "python",
   "name": "python3"
  },
  "language_info": {
   "codemirror_mode": {
    "name": "ipython",
    "version": 3
   },
   "file_extension": ".py",
   "mimetype": "text/x-python",
   "name": "python",
   "nbconvert_exporter": "python",
   "pygments_lexer": "ipython3",
   "version": "3.8.10"
  }
 },
 "nbformat": 4,
 "nbformat_minor": 5
}
